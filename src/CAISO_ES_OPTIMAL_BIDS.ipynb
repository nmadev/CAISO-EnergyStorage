{
 "cells": [
  {
   "cell_type": "markdown",
   "metadata": {},
   "source": [
    "# CAISO Energy Storage Optimal Bid Generation\n",
    "\n",
    "<b>Authors:</b> Nik Zheng, Neal Ma\n",
    "\n",
    "<b>Date Created:</b> October 29, 2024\n",
    "\n",
    "<b>Description:</b> This notebook generation optimal energy storage bid data from historical price data.\n",
    "\n",
    "Optimal bid generation code based off: https://github.com/niklauskun/ES_NN_Arbitrage/blob/main/Energy-Storage-MLP/Energy_Storage_Arbitrage.ipynb\n",
    "\n",
    "TODO: Label everything and fill in function definitions"
   ]
  },
  {
   "cell_type": "code",
   "execution_count": 8,
   "metadata": {},
   "outputs": [],
   "source": [
    "import pandas as pd\n",
    "import numpy as np\n",
    "import matplotlib.pyplot as plt\n",
    "import math\n",
    "import time"
   ]
  },
  {
   "cell_type": "markdown",
   "metadata": {},
   "source": [
    "## Read and Preprocess Data"
   ]
  },
  {
   "cell_type": "code",
   "execution_count": 9,
   "metadata": {},
   "outputs": [],
   "source": [
    "# read energy storage data\n",
    "ES_BIDS_df = pd.read_parquet(\"./data/ES_BIDS/CAISO_ES_BIDS.parquet\")\n",
    "\n",
    "# read real-time price data\n",
    "RTP_df = pd.read_csv(\"./data/CAISO_RTP.csv\")\n",
    "RTP_df[\"Date\"] = pd.to_datetime(RTP_df[\"Date\"], format=\"%m/%d/%Y %I:%M:%S %p\")\n",
    "RTP_df = RTP_df.drop_duplicates(subset=[\"Date\", \"hub\"])\n",
    "RTP_df = RTP_df.pivot(index=\"Date\", columns=\"hub\", values=\"price\")\n",
    "\n",
    "# read day ahead price data\n",
    "DAP_df = pd.read_csv(\"./data/CAISO_DAP.csv\")\n",
    "DAP_df[\"Date\"] = pd.to_datetime(DAP_df[\"Date\"], format=\"%m/%d/%Y %I:%M:%S %p\")\n",
    "DAP_df = DAP_df.drop_duplicates(subset=[\"Date\", \"zone\"])\n",
    "DAP_df = DAP_df.pivot(index=\"Date\", columns=\"zone\", values=\"price\")\n",
    "\n",
    "# merge dataframes\n",
    "full_price_df = ES_BIDS_df.join(RTP_df, how=\"outer\")\n",
    "full_price_df = full_price_df.join(DAP_df, how=\"outer\")\n",
    "\n",
    "# filter for data between July 1, 2023 and October 1, 2024\n",
    "full_price_df = full_price_df[\n",
    "    (full_price_df.index >= pd.Timestamp(\"July 1, 2023\"))\n",
    "    & (full_price_df.index <= pd.Timestamp(\"October 1, 2024\"))\n",
    "]\n",
    "\n",
    "hubs = [\"TH_NP15\", \"TH_SP15\", \"TH_ZP26\"]\n",
    "zones = [\"PGAE\", \"SCE\", \"SDGE\", \"VEA\"]\n",
    "\n",
    "# track min, max, avg real-time prices for all timestamps\n",
    "full_price_df[\"rt_price_max\"] = full_price_df[hubs].max(axis=1)\n",
    "full_price_df[\"rt_price_min\"] = full_price_df[hubs].min(axis=1)\n",
    "full_price_df[\"rt_price_avg\"] = full_price_df[hubs].mean(axis=1)\n",
    "\n",
    "# track min, max, avg day-ahead prices for all timestamps\n",
    "full_price_df[\"da_price_max\"] = full_price_df[zones].max(axis=1)\n",
    "full_price_df[\"da_price_min\"] = full_price_df[zones].min(axis=1)\n",
    "full_price_df[\"da_price_avg\"] = full_price_df[zones].mean(axis=1)\n",
    "\n",
    "# extract real-time price (forward fill NaNs)\n",
    "RTP = full_price_df[\"rt_price_avg\"].ffill().to_numpy()\n",
    "\n",
    "# subselect ES bids to the time frame\n",
    "ES_selected = ES_BIDS_df.loc[full_price_df.index]"
   ]
  },
  {
   "cell_type": "markdown",
   "metadata": {},
   "source": [
    "## Define Simulation Functions"
   ]
  },
  {
   "cell_type": "code",
   "execution_count": 10,
   "metadata": {},
   "outputs": [],
   "source": [
    "# Compute current value function using the value function from the next time period\n",
    "def CalcValueNoUnc(d, c, P, eta, vi, ed, iC, iD):\n",
    "    \"\"\"\n",
    "    Calculate Risk-Neutral value function using deterministic price\n",
    "\n",
    "    :param d: current price\n",
    "    :param c: marignal discharge cost\n",
    "    :param p: power rating with respect to energy rating and sampling time (i.e. 2hr duration battery w/ 5 min resolution: P = (1/2)/12)\n",
    "    :param eta: efficiency\n",
    "    :param vi: input value function for the next time period, which equals v_t(e) where e is sampled from 0 to 1 at granularity e\n",
    "    :param ed: granularity at which vi is sample, in p.u. to energy rating\n",
    "    :return: value function (vo) for the current time period sampled at ed\n",
    "    \"\"\"\n",
    "    # add a large number of upper and lower v, where the first point is\n",
    "    # v_t(0-) = +infty, and the second point is v_t(0), the second largest one is\n",
    "    # v_t(1), and the largest one is v_t(1+) = -infty\n",
    "    lNum = 1e5 * np.ones((1,))\n",
    "    v_foo = np.concatenate([lNum, vi, -lNum], axis=0)\n",
    "\n",
    "    # # calculate soc after charge vC = v_t(e+P*eta)\n",
    "    vC = v_foo[iC]\n",
    "\n",
    "    # # calculate soc after discharge vC = v_t(e-P/eta)\n",
    "    vD = v_foo[iD]\n",
    "\n",
    "    # calculate CDF and PDF\n",
    "    FtEC = (vi * eta > d).astype(int)  # F_t(v_t(e)*eta)\n",
    "    FtCC = (vC * eta > d).astype(int)  # F_t(v_t(e+P*eta)*eta)\n",
    "    FtED = ((vi / eta + c) * ((vi / eta + c) > 0) > d).astype(\n",
    "        int\n",
    "    )  # F_t(v_t(e)/eta + c)\n",
    "    FtDD = ((vD / eta + c) * ((vD / eta + c) > 0) > d).astype(\n",
    "        int\n",
    "    )  # F_t(v_t(e-P/eta)/eta + c)\n",
    "\n",
    "    # calculate terms\n",
    "    Term1 = vC * FtCC\n",
    "    Term2 = d * (vC * eta <= d) * (vi * eta > d) / eta\n",
    "    Term3 = vi * (FtED - FtEC)\n",
    "    Term4 = (\n",
    "        d\n",
    "        * (((vi / eta + c) * ((vi / eta + c) > 0)) <= d)\n",
    "        * (((vD / eta + c) * ((vD / eta + c) > 0)) > d)\n",
    "        * eta\n",
    "    )\n",
    "    Term5 = -c * eta * (FtDD - FtED)\n",
    "    Term6 = vD * (1 - FtDD)\n",
    "\n",
    "    # output new value function samped at ed\n",
    "    vo = Term1 + Term2 + Term3 + Term4 + Term5 + Term6\n",
    "    return vo"
   ]
  },
  {
   "cell_type": "code",
   "execution_count": 11,
   "metadata": {},
   "outputs": [],
   "source": [
    "def ArbValue(lmp, v, e, P, E, eta, c, N):\n",
    "    \"\"\"\n",
    "    Arbitrage test using value function\n",
    "\n",
    "    :param lmp: lambda (electricity price over time period t)\n",
    "    :param v: price function\n",
    "    :param e: SoC\n",
    "    :param P: actual power rating taking time step size into account (Pr * Ts)\n",
    "    :param E: 1\n",
    "    :param eta: efficiency\n",
    "    :param c: marginal discharge cost\n",
    "    :param N: number of SoC samples\n",
    "    :return: #TODO\n",
    "    \"\"\"\n",
    "\n",
    "    iE = np.ceil((N - 1) * e / E).astype(\n",
    "        int\n",
    "    )  # find the nearest SoC index. iE here is 1 smaller than MATLAB.\n",
    "\n",
    "    vF = v.copy()  # read the value function\n",
    "    # charge efficiency: iE+1 to end in Matlab, so iE to end here\n",
    "    vF[iE + 1 :] = vF[iE + 1 :] * eta\n",
    "    # discharge efficiency: 1 to iE-1 in Matlab, so 0 to iE-1 (exclusive) here\n",
    "    vF[0:iE] = vF[0:iE] / eta + c\n",
    "\n",
    "    # charge index\n",
    "    if len(np.nonzero(vF >= lmp)[0]) > 0:\n",
    "        iC = np.max(np.nonzero(vF >= lmp))\n",
    "    else:\n",
    "        iC = None\n",
    "\n",
    "    # discharge index\n",
    "    if len(np.nonzero(vF <= lmp)[0]) > 0:\n",
    "        iD = np.min(np.nonzero(vF <= lmp))\n",
    "    else:\n",
    "        iD = None\n",
    "\n",
    "    # iF = iC*(iC > iE) + iD*(iD < iE) + iE*(iC <= iE)*(iD >= iE);\n",
    "    if iC is not None:\n",
    "        if iC > iE:\n",
    "            iF = iC\n",
    "        elif iD is not None:\n",
    "            if iD < iE:\n",
    "                iF = iD\n",
    "            else:\n",
    "                iF = iE\n",
    "        else:\n",
    "            iF = iE\n",
    "    elif iD is not None:\n",
    "        if iD < iE:\n",
    "            iF = iD\n",
    "        else:\n",
    "            iF = iE\n",
    "    else:\n",
    "        iF = iE\n",
    "\n",
    "    eF = (iF) / (N - 1) * E\n",
    "    eF = max(min(eF, e + P * eta), e - P / eta)\n",
    "    pF = (e - eF) / eta * ((e - eF) < 0) + (e - eF) * eta * ((e - eF) > 0)\n",
    "\n",
    "    return eF, pF"
   ]
  },
  {
   "cell_type": "code",
   "execution_count": 12,
   "metadata": {},
   "outputs": [],
   "source": [
    "def generate_value_function(P, eta, c, ed, ef, Ne, T, num_segment, RTP):\n",
    "    \"\"\"\n",
    "    Generate value function v and dowmsampled value function vAvg\n",
    "    :param P:\n",
    "    :param eta:\n",
    "    :param c:\n",
    "    :param ed:\n",
    "    :param ef:\n",
    "    :param Ne:\n",
    "    :param T:\n",
    "    :param num_segment:\n",
    "    :param RTP: real-time price\n",
    "    \"\"\"\n",
    "\n",
    "    start_time = time.time()\n",
    "\n",
    "    # Set final SoC level\n",
    "    vEnd = np.zeros(Ne)\n",
    "    vEnd[0 : math.floor(ef * 1001)] = (\n",
    "        1e2  # Use 100 as the penalty for final discharge level\n",
    "    )\n",
    "\n",
    "    # Define the risk-neutral value function and populate the final column.\n",
    "    # v[0, 0] is the marginal value of 0% SoC at the beginning of day 1, v[Ne, T]is the maringal value of 100% SoC at the beginning of the last operating day\n",
    "    v = np.zeros((Ne, T + 1))  # initialize the value function series\n",
    "    v[:, -1] = vEnd  # v.shape == (1001, 210241)\n",
    "\n",
    "    # Process indices: discretize vt by modeling it as an vector v_{t,j} in which each element is associated with equally spaced SoC samples\n",
    "    es = np.arange(start=0, stop=1 + ed, step=ed)\n",
    "\n",
    "    # the number of samples is J = 1 + E/ed\n",
    "    Ne = len(es)\n",
    "\n",
    "    # Calculate soc after charge vC = v_t(e+P*eta)\n",
    "    eC = es + P * eta  # [0.0375 0.0385 0.0395 ... 1.0355 1.0365 1.0375]\n",
    "    iC = np.ceil(eC / ed)\n",
    "    iC[iC > (Ne + 1)] = Ne + 1\n",
    "    iC[iC < 1] = 0\n",
    "\n",
    "    # Calculate soc after discharge vC = v_t(e-P/eta)\n",
    "    eD = es - P / eta\n",
    "    iD = np.floor(eD / ed)\n",
    "    iD[iD > (Ne + 1)] = Ne + 1\n",
    "    iD[iD < 1] = 0\n",
    "\n",
    "    # Populate value function\n",
    "    for t in reversed(range(0, T)):  # start from the last day and move backwards\n",
    "        vi = v[:, t + 1]  # input value function of next time stamp\n",
    "        vo = CalcValueNoUnc(RTP[t], c, P, eta, vi, ed, iC.astype(int), iD.astype(int))\n",
    "        v[:, t] = vo  # record the result\n",
    "\n",
    "    end_time = time.time()\n",
    "    print(\"Time:\", end_time - start_time)\n",
    "\n",
    "    # Downsample: https://stackoverflow.com/questions/14916545/numpy-rebinning-a-2d-array\n",
    "    vAvg = (\n",
    "        v[0:1000, :]\n",
    "        .reshape([num_segment, int(1000 / num_segment), v.shape[1], 1])\n",
    "        .mean(3)\n",
    "        .mean(1)\n",
    "    )\n",
    "\n",
    "    return v, vAvg"
   ]
  },
  {
   "cell_type": "markdown",
   "metadata": {},
   "source": [
    "## Generate Optimal Charge and Discharge Bids"
   ]
  },
  {
   "cell_type": "code",
   "execution_count": 13,
   "metadata": {},
   "outputs": [],
   "source": [
    "# Set parameters\n",
    "Ts = 1.0 / 12  # timestep in hours (5 minutes)\n",
    "T = len(RTP)  # number of time steps\n",
    "Pr = (\n",
    "    1 / 3.5\n",
    ")  # normalized power rating with respect to energy rating (highest power input allowed to flow through particular equipment)\n",
    "P = Pr * Ts  # actual power rating taking timestep size into account\n",
    "eta = 0.9  # efficiency\n",
    "c = 30  # marginal discharge cost - degredation\n",
    "ed = 0.001  # SoC sample granularity\n",
    "ef = 0.5  # final SoC target level, use 0 if none\n",
    "Ne = math.floor(1 / ed) + 1  # number of SoC samples (1/0.001) + 1 = 1001\n",
    "e0 = 0.5  # initial SoC level\n",
    "\n",
    "num_segment = 50  # downsample setting"
   ]
  },
  {
   "cell_type": "code",
   "execution_count": 16,
   "metadata": {},
   "outputs": [
    {
     "name": "stdout",
     "output_type": "stream",
     "text": [
      "Time: 10.893051862716675\n",
      "(1001, 131906)\n"
     ]
    }
   ],
   "source": [
    "# Marginal Opportunity Value Function Calculation\n",
    "v, vAvg = generate_value_function(P, eta, c, ed, ef, Ne, T, num_segment, RTP)\n",
    "print(v.shape)"
   ]
  },
  {
   "cell_type": "code",
   "execution_count": 17,
   "metadata": {},
   "outputs": [],
   "source": [
    "# Calculate SoC based on CAISO energy storage report duration (linear interpolation used for NaNs)\n",
    "ES_selected[\"tot_charge_rtpd_adjusted\"] = ES_selected.apply(\n",
    "    lambda row: (\n",
    "        row[\"tot_charge_rtpd\"] / 30000.0\n",
    "        if row.name.year == 2023\n",
    "        else row[\"tot_charge_rtpd\"] / 33250\n",
    "    ),\n",
    "    axis=1,\n",
    ")\n",
    "ES_selected[\"tot_charge_rtpd_adjusted\"] = ES_selected[\n",
    "    \"tot_charge_rtpd_adjusted\"\n",
    "].interpolate(method=\"linear\")"
   ]
  },
  {
   "cell_type": "code",
   "execution_count": 18,
   "metadata": {},
   "outputs": [],
   "source": [
    "# Get segment number based on SoC at each timestamp\n",
    "ES_selected[\"rtpd_soc\"] = (\n",
    "    (ES_selected[\"tot_charge_rtpd_adjusted\"] * 1000.0 + 1).round().astype(int)\n",
    ")"
   ]
  },
  {
   "cell_type": "code",
   "execution_count": 20,
   "metadata": {},
   "outputs": [],
   "source": [
    "# Select opportunity value based on total SoC\n",
    "selected_v_values = np.array(\n",
    "    [v[soc - 1, idx] for idx, soc in enumerate(ES_selected[\"rtpd_soc\"])]\n",
    ")"
   ]
  },
  {
   "cell_type": "code",
   "execution_count": 21,
   "metadata": {},
   "outputs": [],
   "source": [
    "# Optimal charge and discharge bids\n",
    "optimal_charge_bids = selected_v_values * eta\n",
    "optimal_discharge_bids = selected_v_values / eta + c"
   ]
  },
  {
   "cell_type": "code",
   "execution_count": 23,
   "metadata": {},
   "outputs": [
    {
     "name": "stdout",
     "output_type": "stream",
     "text": [
      "131905 131905\n"
     ]
    }
   ],
   "source": [
    "print(len(optimal_charge_bids), len(optimal_discharge_bids))\n",
    "# TODO: Either calculate rolling window heere or in the next notebook..."
   ]
  },
  {
   "cell_type": "code",
   "execution_count": 30,
   "metadata": {},
   "outputs": [
    {
     "data": {
      "text/plain": [
       "<matplotlib.collections.PathCollection at 0x1a593c6d7c0>"
      ]
     },
     "execution_count": 30,
     "metadata": {},
     "output_type": "execute_result"
    },
    {
     "data": {
      "image/png": "[encoded data removed]",
      "text/plain": [
       "<Figure size 1200x600 with 1 Axes>"
      ]
     },
     "metadata": {},
     "output_type": "display_data"
    }
   ],
   "source": [
    "plt.figure(figsize=(12, 6))\n",
    "plt.scatter(ES_selected.index, optimal_discharge_bids, s=1)\n",
    "plt.scatter(ES_selected.index, optimal_charge_bids, s=1)"
   ]
  },
  {
   "cell_type": "code",
   "execution_count": 36,
   "metadata": {},
   "outputs": [],
   "source": [
    "ES_optimal = pd.DataFrame(\n",
    "    index=ES_selected.index,\n",
    "    columns=[\"optimal_charge\", \"optimal_discharge\"],\n",
    "    data=np.array([optimal_charge_bids, optimal_discharge_bids]).T,\n",
    ")\n",
    "ES_optimal.to_csv(\"./data/optimal_bids.csv\")"
   ]
  },
  {
   "cell_type": "code",
   "execution_count": null,
   "metadata": {},
   "outputs": [],
   "source": []
  }
 ],
 "metadata": {
  "kernelspec": {
   "display_name": "Python 3",
   "language": "python",
   "name": "python3"
  },
  "language_info": {
   "codemirror_mode": {
    "name": "ipython",
    "version": 3
   },
   "file_extension": ".py",
   "mimetype": "text/x-python",
   "name": "python",
   "nbconvert_exporter": "python",
   "pygments_lexer": "ipython3",
   "version": "3.12.4"
  }
 },
 "nbformat": 4,
 "nbformat_minor": 2
}
