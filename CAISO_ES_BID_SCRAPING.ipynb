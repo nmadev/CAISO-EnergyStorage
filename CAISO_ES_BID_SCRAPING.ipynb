{
 "cells": [
  {
   "cell_type": "markdown",
   "metadata": {},
   "source": [
    "# CAISO Energy Storage Bid Data Scraping\n",
    "\n",
    "\n",
    "<b>Author:</b> Neal Ma<br/>\n",
    "<b>Creation Date:</b> September 11, 2024\n",
    "\n",
    "<b>Description:</b> CAISO has released daily energy storage reports here (https://www.caiso.com/library/daily-energy-storage-reports) since August 4, 2022. These reports include extremely useful data but the data itself is not readily accessible. This notebook extracts that data and saves it to a local parquet file to read into a pandas dataframe for easy query and access."
   ]
  },
  {
   "cell_type": "code",
   "execution_count": 1,
   "metadata": {},
   "outputs": [],
   "source": [
    "import requests\n",
    "from bs4 import BeautifulSoup\n",
    "import pandas as pd\n",
    "import os"
   ]
  },
  {
   "cell_type": "code",
   "execution_count": 5,
   "metadata": {},
   "outputs": [],
   "source": [
    "# define all URLs and dates to search\n",
    "BASE_URL = \"https://www.caiso.com/documents/dailyenergystoragereport\"\n",
    "DATE_FORMAT = \"%b%d-%Y\"\n",
    "EXTENSION = \".html\"\n",
    "\n",
    "ALT_BASE_URL = \"https://www.caiso.com/documents/daily-energy-storage-report-\"\n",
    "ALT_DATE_FORMAT = \"%b-%d-%Y\"\n",
    "\n",
    "ALT_2_DATE_FORMAT = \"%b-%d%Y\"\n",
    "\n",
    "START_DATE = '2022-07-31' # NOTE: This is the earliest date with available data\n",
    "END_DATE = '2024-09-11' # NOTE: This can be changed but just needs to be verified\n",
    "\n",
    "HTML_STORAGE_PATH = './data/CAISO_ES_HTML'"
   ]
  },
  {
   "cell_type": "code",
   "execution_count": 7,
   "metadata": {},
   "outputs": [],
   "source": [
    "# build the directory to store html pages\n",
    "if not os.path.exists(HTML_STORAGE_PATH):\n",
    "    os.makedirs(HTML_STORAGE_PATH)"
   ]
  },
  {
   "cell_type": "code",
   "execution_count": 8,
   "metadata": {},
   "outputs": [],
   "source": [
    "date_range = pd.date_range(start=START_DATE, end=END_DATE)\n",
    "date_strings = date_range.strftime(DATE_FORMAT)\n",
    "alt_date_strings = date_range.strftime(ALT_DATE_FORMAT)\n",
    "alt_2_date_strings = date_range.strftime(ALT_2_DATE_FORMAT)"
   ]
  },
  {
   "cell_type": "code",
   "execution_count": 18,
   "metadata": {},
   "outputs": [
    {
     "name": "stdout",
     "output_type": "stream",
     "text": [
      "[]\n"
     ]
    }
   ],
   "source": [
    "# iterate through all dates and datestrings to find valid dates\n",
    "failed_requests = []\n",
    "for date_str, alt_date_str, alt_2_date_str in zip(date_strings, alt_date_strings, alt_2_date_strings):\n",
    "    html_str = None\n",
    "    if (page := requests.get(BASE_URL + date_str + EXTENSION)).status_code == 200:\n",
    "        html_str = BeautifulSoup(page.content, \"html.parser\")\n",
    "    elif (page := requests.get(ALT_BASE_URL + alt_date_str + EXTENSION)).status_code == 200:\n",
    "        html_str = BeautifulSoup(page.content, \"html.parser\")\n",
    "    elif (page := requests.get(ALT_BASE_URL + alt_2_date_str + EXTENSION)).status_code == 200:\n",
    "        html_str = BeautifulSoup(page.content, \"html.parser\")\n",
    "    else:\n",
    "        failed_requests.append(date_str)\n",
    "    # save html_str to file with the date_str\n",
    "    html_str = str(html_str)\n",
    "\n",
    "    # keep lines in html_str between and including the line starting with 'var tot_energy_ifm = [' and with the final line starting with '\tbid_rtpd_neg_hybrid_11 = ['\n",
    "    lines = html_str.split('\\n')\n",
    "    start_index = next(i for i, line in enumerate(lines) if line.strip().startswith('var tot_energy_ifm = ['))\n",
    "    end_index = next(i for i, line in enumerate(lines) if line.strip().startswith('bid_rtpd_neg_hybrid_11 = ['))\n",
    "    html_str = ''.join(lines[start_index:end_index+1])\n",
    "\n",
    "    f = open(HTML_STORAGE_PATH + \"/\" + date_str + '.html', 'w')\n",
    "    f.write(str(html_str))\n",
    "    f.close()\n",
    "\n",
    "print(failed_requests)"
   ]
  },
  {
   "cell_type": "code",
   "execution_count": 63,
   "metadata": {},
   "outputs": [
    {
     "name": "stdout",
     "output_type": "stream",
     "text": [
      "288\n"
     ]
    }
   ],
   "source": [
    "# define data names and time granularity in minutes\n",
    "key_dict = {'tot_energy_ifm': 5,\n",
    "            'tot_energy_ruc': 5,\n",
    "            'tot_energy_rtpd': 5,\n",
    "            'tot_energy_rtd': 5,\n",
    "            'tot_charge_ifm': 5,\n",
    "            'tot_charge_ruc': 5,\n",
    "            'tot_charge_rtpd': 5,\n",
    "            'tot_charge_rtd': 5,\n",
    "            'as_ru_ifm': 60,\n",
    "            'as_rd_ifm': 60,\n",
    "            'as_sr_ifm': 60,\n",
    "            'as_nr_ifm': 60,\n",
    "            'as_ru_rtpd': 15,\n",
    "            'as_rd_rtpd': 15,\n",
    "            'as_sr_rtpd': 15,\n",
    "            'as_nr_rtpd': 15,\n",
    "            'tot_energy_hybrid_ifm': 5,\n",
    "            'tot_energy_hybrid_ruc': 5,\n",
    "            'tot_energy_hybrid_rtpd': 5,\n",
    "            'tot_energy_hybrid_rtd': 5,\n",
    "            'tot_charge_hybrid_ifm': 5,\n",
    "            'tot_charge_hybrid_ruc': 5,\n",
    "            'tot_charge_hybrid_rtpd': 5,\n",
    "            'tot_charge_hybrid_rtd': 5,\n",
    "            'as_ru_hybrid_ifm': 60,\n",
    "            'as_rd_hybrid_ifm': 60,\n",
    "            'as_sr_hybrid_ifm': 60,\n",
    "            'as_nr_hybrid_ifm': 60,\n",
    "            'as_ru_hybrid_rtpd': 15,\n",
    "            'as_rd_hybrid_rtpd': 15,\n",
    "            'as_sr_hybrid_rtpd': 15,\n",
    "            'as_nr_hybrid_rtpd': 15,\n",
    "            }\n",
    "\n",
    "# some larger labels to add\n",
    "prefixes = ['bid_ifm', 'bid_rtpd']"
   ]
  },
  {
   "cell_type": "code",
   "execution_count": null,
   "metadata": {},
   "outputs": [],
   "source": []
  }
 ],
 "metadata": {
  "kernelspec": {
   "display_name": "Python 3",
   "language": "python",
   "name": "python3"
  },
  "language_info": {
   "codemirror_mode": {
    "name": "ipython",
    "version": 3
   },
   "file_extension": ".py",
   "mimetype": "text/x-python",
   "name": "python",
   "nbconvert_exporter": "python",
   "pygments_lexer": "ipython3",
   "version": "3.12.4"
  }
 },
 "nbformat": 4,
 "nbformat_minor": 2
}
